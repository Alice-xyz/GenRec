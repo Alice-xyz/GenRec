{
 "cells": [
  {
   "cell_type": "code",
   "execution_count": 1,
   "id": "b835bf03-bda4-4dd8-8708-90c36db13ae6",
   "metadata": {},
   "outputs": [
    {
     "name": "stderr",
     "output_type": "stream",
     "text": [
      "/common/home/jj635/anaconda3/envs/llama/lib/python3.9/site-packages/tqdm/auto.py:21: TqdmWarning: IProgress not found. Please update jupyter and ipywidgets. See https://ipywidgets.readthedocs.io/en/stable/user_install.html\n",
      "  from .autonotebook import tqdm as notebook_tqdm\n"
     ]
    },
    {
     "name": "stdout",
     "output_type": "stream",
     "text": [
      "\n",
      "===================================BUG REPORT===================================\n",
      "Welcome to bitsandbytes. For bug reports, please submit your error trace to: https://github.com/TimDettmers/bitsandbytes/issues\n",
      "================================================================================\n",
      "CUDA SETUP: CUDA runtime path found: /common/home/jj635/anaconda3/lib/libcudart.so\n",
      "CUDA SETUP: Highest compute capability among GPUs detected: 8.6\n",
      "CUDA SETUP: Detected CUDA version 113\n",
      "CUDA SETUP: Loading binary /common/home/jj635/anaconda3/envs/llama/lib/python3.9/site-packages/bitsandbytes/libbitsandbytes_cuda113.so...\n"
     ]
    }
   ],
   "source": [
    "import sys\n",
    "\n",
    "import fire\n",
    "import gradio as gr\n",
    "import torch\n",
    "import transformers\n",
    "from peft import PeftModel\n",
    "from transformers import GenerationConfig, LlamaForCausalLM, LlamaTokenizer"
   ]
  },
  {
   "cell_type": "code",
   "execution_count": 2,
   "id": "0a2a059d-8eeb-47a4-8f1e-d8d4eed140f8",
   "metadata": {},
   "outputs": [
    {
     "name": "stderr",
     "output_type": "stream",
     "text": [
      "Loading checkpoint shards: 100%|████████████████| 33/33 [00:14<00:00,  2.32it/s]\n"
     ]
    }
   ],
   "source": [
    "model = LlamaForCausalLM.from_pretrained(\"/common/users/jj635/llama/llama-7b/\")"
   ]
  },
  {
   "cell_type": "code",
   "execution_count": 4,
   "id": "6c4939be-7069-4956-a4a3-ea81f1457bc5",
   "metadata": {},
   "outputs": [],
   "source": [
    "model = PeftModel.from_pretrained(\n",
    "            model,\n",
    "            \"/common/users/jj635/llama/mycheckpoint/\"\n",
    "        )"
   ]
  },
  {
   "cell_type": "code",
   "execution_count": 5,
   "id": "d4b49a3c-a90b-4c28-bc20-eb2974b18f7c",
   "metadata": {},
   "outputs": [],
   "source": [
    "tokenizer = LlamaTokenizer.from_pretrained(\"/common/users/jj635/llama/tokenizer/\")"
   ]
  },
  {
   "cell_type": "code",
   "execution_count": 6,
   "id": "328403b2-dd96-401d-af2f-794ab1b363bd",
   "metadata": {},
   "outputs": [],
   "source": [
    "model.config.pad_token_id = tokenizer.pad_token_id = 0  # unk\n",
    "model.config.bos_token_id = 1\n",
    "model.config.eos_token_id = 2"
   ]
  },
  {
   "cell_type": "code",
   "execution_count": 7,
   "id": "5dd46e91-5978-4c4d-b20c-7ce99bbb801c",
   "metadata": {},
   "outputs": [],
   "source": [
    "temperature=0.1\n",
    "top_p=0.75\n",
    "top_k=40\n",
    "num_beams=4\n",
    "max_new_tokens=128"
   ]
  },
  {
   "cell_type": "code",
   "execution_count": 8,
   "id": "5c2544a7-c047-4b24-a003-9a20ee19c7e3",
   "metadata": {},
   "outputs": [],
   "source": [
    "inputs = tokenizer('how to create a website', return_tensors=\"pt\")"
   ]
  },
  {
   "cell_type": "code",
   "execution_count": 10,
   "id": "a0865821-95e3-4870-94c9-d299fae86700",
   "metadata": {},
   "outputs": [],
   "source": [
    "generation_config = GenerationConfig(\n",
    "            temperature=temperature,\n",
    "            top_p=top_p,\n",
    "            top_k=top_k,\n",
    "            num_beams=num_beams\n",
    "        )"
   ]
  },
  {
   "cell_type": "code",
   "execution_count": 15,
   "id": "6fa4e915-818b-4cd5-a64b-173205effb24",
   "metadata": {},
   "outputs": [],
   "source": [
    "\n",
    "inputs = tokenizer('Building a website can be done in 10 simple steps:\\n', return_tensors=\"pt\")\n",
    "input_ids = inputs[\"input_ids\"]\n",
    "generation_output = model.generate(\n",
    "                input_ids=input_ids,\n",
    "                generation_config=generation_config,\n",
    "                return_dict_in_generate=True,\n",
    "                output_scores=True,\n",
    "                max_new_tokens=max_new_tokens,\n",
    "            )"
   ]
  },
  {
   "cell_type": "code",
   "execution_count": 16,
   "id": "4064ab5b-1827-4c3a-80d5-0134ce72c4b6",
   "metadata": {},
   "outputs": [],
   "source": [
    "s = generation_output.sequences[0]\n",
    "output = tokenizer.decode(s)"
   ]
  },
  {
   "cell_type": "code",
   "execution_count": 17,
   "id": "a38ce110-e335-4a75-b301-87cfa9698723",
   "metadata": {},
   "outputs": [
    {
     "data": {
      "text/plain": [
       "' Building a website can be done in 10 simple steps:\\n1. Choose a domain name.\\n2. Choose a web hosting service.\\n3. Choose a content management system (CMS).\\n4. Design the website.\\n5. Develop the website.\\n6. Test the website.\\n7. Launch the website.\\n8. Promote the website.\\n9. Monitor the website.\\n10. Maintain the website.\\nStep 1: Choose a Domain Name\\nA domain name is the address of your website. It is the name that people will type into their web browser to access your website. It is important to'"
      ]
     },
     "execution_count": 17,
     "metadata": {},
     "output_type": "execute_result"
    }
   ],
   "source": [
    "output"
   ]
  },
  {
   "cell_type": "code",
   "execution_count": null,
   "id": "38a3e646-c389-43ad-bb51-5a2a99199f0d",
   "metadata": {},
   "outputs": [],
   "source": []
  }
 ],
 "metadata": {
  "kernelspec": {
   "display_name": "llama",
   "language": "python",
   "name": "llama"
  },
  "language_info": {
   "codemirror_mode": {
    "name": "ipython",
    "version": 3
   },
   "file_extension": ".py",
   "mimetype": "text/x-python",
   "name": "python",
   "nbconvert_exporter": "python",
   "pygments_lexer": "ipython3",
   "version": "3.9.16"
  }
 },
 "nbformat": 4,
 "nbformat_minor": 5
}
